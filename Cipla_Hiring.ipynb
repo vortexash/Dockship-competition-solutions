{
  "nbformat": 4,
  "nbformat_minor": 0,
  "metadata": {
    "colab": {
      "name": "Cipla_Hiring.ipynb",
      "provenance": [],
      "collapsed_sections": [],
      "authorship_tag": "ABX9TyNav9/H0aetbhalSBF2skWF",
      "include_colab_link": true
    },
    "kernelspec": {
      "name": "python3",
      "display_name": "Python 3"
    },
    "language_info": {
      "name": "python"
    }
  },
  "cells": [
    {
      "cell_type": "markdown",
      "metadata": {
        "id": "view-in-github",
        "colab_type": "text"
      },
      "source": [
        "<a href=\"https://colab.research.google.com/github/vortexash/Dockship-competition-solutions/blob/main/Cipla_Hiring.ipynb\" target=\"_parent\"><img src=\"https://colab.research.google.com/assets/colab-badge.svg\" alt=\"Open In Colab\"/></a>"
      ]
    },
    {
      "cell_type": "code",
      "metadata": {
        "id": "tEN_D5txsEgh"
      },
      "source": [
        "import pandas as pd\n",
        "import numpy as np\n",
        "from sklearn.preprocessing import OrdinalEncoder, OneHotEncoder, LabelEncoder, StandardScaler"
      ],
      "execution_count": 15,
      "outputs": []
    },
    {
      "cell_type": "code",
      "metadata": {
        "id": "WIVvuCWbsMWV"
      },
      "source": [
        "train_df = pd.read_csv(\"/content/train.csv\")\n",
        "test_df = pd.read_csv(\"/content/test.csv\")"
      ],
      "execution_count": 2,
      "outputs": []
    },
    {
      "cell_type": "code",
      "metadata": {
        "colab": {
          "base_uri": "https://localhost:8080/",
          "height": 356
        },
        "id": "B-lt6VRwskfT",
        "outputId": "3e8f0b4b-993a-4ef8-b77b-cfe5e0bbda9f"
      },
      "source": [
        "train_df.head()"
      ],
      "execution_count": 3,
      "outputs": [
        {
          "output_type": "execute_result",
          "data": {
            "text/html": [
              "<div>\n",
              "<style scoped>\n",
              "    .dataframe tbody tr th:only-of-type {\n",
              "        vertical-align: middle;\n",
              "    }\n",
              "\n",
              "    .dataframe tbody tr th {\n",
              "        vertical-align: top;\n",
              "    }\n",
              "\n",
              "    .dataframe thead th {\n",
              "        text-align: right;\n",
              "    }\n",
              "</style>\n",
              "<table border=\"1\" class=\"dataframe\">\n",
              "  <thead>\n",
              "    <tr style=\"text-align: right;\">\n",
              "      <th></th>\n",
              "      <th>Customer ID</th>\n",
              "      <th>Name</th>\n",
              "      <th>Gender</th>\n",
              "      <th>Age</th>\n",
              "      <th>Income (USD)</th>\n",
              "      <th>Income Stability</th>\n",
              "      <th>Profession</th>\n",
              "      <th>Type of Employment</th>\n",
              "      <th>Location</th>\n",
              "      <th>Loan Amount Request (USD)</th>\n",
              "      <th>Current Loan Expenses (USD)</th>\n",
              "      <th>Expense Type 1</th>\n",
              "      <th>Expense Type 2</th>\n",
              "      <th>Dependents</th>\n",
              "      <th>Credit Score</th>\n",
              "      <th>No. of Defaults</th>\n",
              "      <th>Has Active Credit Card</th>\n",
              "      <th>Property ID</th>\n",
              "      <th>Property Age</th>\n",
              "      <th>Property Type</th>\n",
              "      <th>Property Location</th>\n",
              "      <th>Co-Applicant</th>\n",
              "      <th>Property Price</th>\n",
              "      <th>Loan Sanction Amount (USD)</th>\n",
              "    </tr>\n",
              "  </thead>\n",
              "  <tbody>\n",
              "    <tr>\n",
              "      <th>0</th>\n",
              "      <td>C-36995</td>\n",
              "      <td>Frederica Shealy</td>\n",
              "      <td>F</td>\n",
              "      <td>56</td>\n",
              "      <td>1933.05</td>\n",
              "      <td>Low</td>\n",
              "      <td>Working</td>\n",
              "      <td>Sales staff</td>\n",
              "      <td>Semi-Urban</td>\n",
              "      <td>72809.58</td>\n",
              "      <td>241.08</td>\n",
              "      <td>N</td>\n",
              "      <td>N</td>\n",
              "      <td>3.0</td>\n",
              "      <td>809.44</td>\n",
              "      <td>0</td>\n",
              "      <td>NaN</td>\n",
              "      <td>746</td>\n",
              "      <td>1933.05</td>\n",
              "      <td>4</td>\n",
              "      <td>Rural</td>\n",
              "      <td>1</td>\n",
              "      <td>119933.46</td>\n",
              "      <td>54607.18</td>\n",
              "    </tr>\n",
              "    <tr>\n",
              "      <th>1</th>\n",
              "      <td>C-33999</td>\n",
              "      <td>America Calderone</td>\n",
              "      <td>M</td>\n",
              "      <td>32</td>\n",
              "      <td>4952.91</td>\n",
              "      <td>Low</td>\n",
              "      <td>Working</td>\n",
              "      <td>NaN</td>\n",
              "      <td>Semi-Urban</td>\n",
              "      <td>46837.47</td>\n",
              "      <td>495.81</td>\n",
              "      <td>N</td>\n",
              "      <td>Y</td>\n",
              "      <td>1.0</td>\n",
              "      <td>780.40</td>\n",
              "      <td>0</td>\n",
              "      <td>Unpossessed</td>\n",
              "      <td>608</td>\n",
              "      <td>4952.91</td>\n",
              "      <td>2</td>\n",
              "      <td>Rural</td>\n",
              "      <td>1</td>\n",
              "      <td>54791.00</td>\n",
              "      <td>37469.98</td>\n",
              "    </tr>\n",
              "    <tr>\n",
              "      <th>2</th>\n",
              "      <td>C-3770</td>\n",
              "      <td>Rosetta Verne</td>\n",
              "      <td>F</td>\n",
              "      <td>65</td>\n",
              "      <td>988.19</td>\n",
              "      <td>High</td>\n",
              "      <td>Pensioner</td>\n",
              "      <td>NaN</td>\n",
              "      <td>Semi-Urban</td>\n",
              "      <td>45593.04</td>\n",
              "      <td>171.95</td>\n",
              "      <td>N</td>\n",
              "      <td>Y</td>\n",
              "      <td>1.0</td>\n",
              "      <td>833.15</td>\n",
              "      <td>0</td>\n",
              "      <td>Unpossessed</td>\n",
              "      <td>546</td>\n",
              "      <td>988.19</td>\n",
              "      <td>2</td>\n",
              "      <td>Urban</td>\n",
              "      <td>0</td>\n",
              "      <td>72440.58</td>\n",
              "      <td>36474.43</td>\n",
              "    </tr>\n",
              "    <tr>\n",
              "      <th>3</th>\n",
              "      <td>C-26480</td>\n",
              "      <td>Zoe Chitty</td>\n",
              "      <td>F</td>\n",
              "      <td>65</td>\n",
              "      <td>NaN</td>\n",
              "      <td>High</td>\n",
              "      <td>Pensioner</td>\n",
              "      <td>NaN</td>\n",
              "      <td>Rural</td>\n",
              "      <td>80057.92</td>\n",
              "      <td>298.54</td>\n",
              "      <td>N</td>\n",
              "      <td>Y</td>\n",
              "      <td>2.0</td>\n",
              "      <td>832.70</td>\n",
              "      <td>1</td>\n",
              "      <td>Unpossessed</td>\n",
              "      <td>890</td>\n",
              "      <td>NaN</td>\n",
              "      <td>2</td>\n",
              "      <td>Semi-Urban</td>\n",
              "      <td>1</td>\n",
              "      <td>121441.51</td>\n",
              "      <td>56040.54</td>\n",
              "    </tr>\n",
              "    <tr>\n",
              "      <th>4</th>\n",
              "      <td>C-23459</td>\n",
              "      <td>Afton Venema</td>\n",
              "      <td>F</td>\n",
              "      <td>31</td>\n",
              "      <td>2614.77</td>\n",
              "      <td>Low</td>\n",
              "      <td>Working</td>\n",
              "      <td>High skill tech staff</td>\n",
              "      <td>Semi-Urban</td>\n",
              "      <td>113858.89</td>\n",
              "      <td>491.41</td>\n",
              "      <td>N</td>\n",
              "      <td>Y</td>\n",
              "      <td>NaN</td>\n",
              "      <td>745.55</td>\n",
              "      <td>1</td>\n",
              "      <td>Active</td>\n",
              "      <td>715</td>\n",
              "      <td>2614.77</td>\n",
              "      <td>4</td>\n",
              "      <td>Semi-Urban</td>\n",
              "      <td>1</td>\n",
              "      <td>208567.91</td>\n",
              "      <td>74008.28</td>\n",
              "    </tr>\n",
              "  </tbody>\n",
              "</table>\n",
              "</div>"
            ],
            "text/plain": [
              "  Customer ID               Name  ... Property Price  Loan Sanction Amount (USD)\n",
              "0     C-36995   Frederica Shealy  ...      119933.46                    54607.18\n",
              "1     C-33999  America Calderone  ...       54791.00                    37469.98\n",
              "2      C-3770      Rosetta Verne  ...       72440.58                    36474.43\n",
              "3     C-26480         Zoe Chitty  ...      121441.51                    56040.54\n",
              "4     C-23459       Afton Venema  ...      208567.91                    74008.28\n",
              "\n",
              "[5 rows x 24 columns]"
            ]
          },
          "metadata": {
            "tags": []
          },
          "execution_count": 3
        }
      ]
    },
    {
      "cell_type": "code",
      "metadata": {
        "colab": {
          "base_uri": "https://localhost:8080/"
        },
        "id": "UGJQK8v5snw8",
        "outputId": "05964e3a-6f59-4b76-ab51-e5788ec82159"
      },
      "source": [
        "train_df.info()"
      ],
      "execution_count": 5,
      "outputs": [
        {
          "output_type": "stream",
          "text": [
            "<class 'pandas.core.frame.DataFrame'>\n",
            "RangeIndex: 30000 entries, 0 to 29999\n",
            "Data columns (total 24 columns):\n",
            " #   Column                       Non-Null Count  Dtype  \n",
            "---  ------                       --------------  -----  \n",
            " 0   Customer ID                  30000 non-null  object \n",
            " 1   Name                         30000 non-null  object \n",
            " 2   Gender                       29947 non-null  object \n",
            " 3   Age                          30000 non-null  int64  \n",
            " 4   Income (USD)                 25424 non-null  float64\n",
            " 5   Income Stability             28317 non-null  object \n",
            " 6   Profession                   30000 non-null  object \n",
            " 7   Type of Employment           22730 non-null  object \n",
            " 8   Location                     30000 non-null  object \n",
            " 9   Loan Amount Request (USD)    30000 non-null  float64\n",
            " 10  Current Loan Expenses (USD)  29828 non-null  float64\n",
            " 11  Expense Type 1               30000 non-null  object \n",
            " 12  Expense Type 2               30000 non-null  object \n",
            " 13  Dependents                   27507 non-null  float64\n",
            " 14  Credit Score                 28297 non-null  float64\n",
            " 15  No. of Defaults              30000 non-null  int64  \n",
            " 16  Has Active Credit Card       28434 non-null  object \n",
            " 17  Property ID                  30000 non-null  int64  \n",
            " 18  Property Age                 25150 non-null  float64\n",
            " 19  Property Type                30000 non-null  int64  \n",
            " 20  Property Location            29644 non-null  object \n",
            " 21  Co-Applicant                 30000 non-null  int64  \n",
            " 22  Property Price               30000 non-null  float64\n",
            " 23  Loan Sanction Amount (USD)   29660 non-null  float64\n",
            "dtypes: float64(8), int64(5), object(11)\n",
            "memory usage: 5.5+ MB\n"
          ],
          "name": "stdout"
        }
      ]
    },
    {
      "cell_type": "code",
      "metadata": {
        "colab": {
          "base_uri": "https://localhost:8080/"
        },
        "id": "xVS608J6ss1y",
        "outputId": "6c4ff7fe-d334-4db1-8289-dc5246327677"
      },
      "source": [
        "train_df.nunique()"
      ],
      "execution_count": 6,
      "outputs": [
        {
          "output_type": "execute_result",
          "data": {
            "text/plain": [
              "Customer ID                    30000\n",
              "Name                           30000\n",
              "Gender                             2\n",
              "Age                               48\n",
              "Income (USD)                   24429\n",
              "Income Stability                   2\n",
              "Profession                         8\n",
              "Type of Employment                18\n",
              "Location                           3\n",
              "Loan Amount Request (USD)      29982\n",
              "Current Loan Expenses (USD)    24041\n",
              "Expense Type 1                     2\n",
              "Expense Type 2                     2\n",
              "Dependents                        10\n",
              "Credit Score                   17586\n",
              "No. of Defaults                    2\n",
              "Has Active Credit Card             3\n",
              "Property ID                      999\n",
              "Property Age                   24179\n",
              "Property Type                      4\n",
              "Property Location                  3\n",
              "Co-Applicant                       3\n",
              "Property Price                 29632\n",
              "Loan Sanction Amount (USD)     21450\n",
              "dtype: int64"
            ]
          },
          "metadata": {
            "tags": []
          },
          "execution_count": 6
        }
      ]
    },
    {
      "cell_type": "code",
      "metadata": {
        "colab": {
          "base_uri": "https://localhost:8080/"
        },
        "id": "ZDWTUCJ9s4t8",
        "outputId": "02b654a3-44b8-48f4-d47d-71e171c74d6d"
      },
      "source": [
        "(train_df.isna().sum()/train_df.shape[0])*100"
      ],
      "execution_count": 8,
      "outputs": [
        {
          "output_type": "execute_result",
          "data": {
            "text/plain": [
              "Customer ID                     0.000000\n",
              "Name                            0.000000\n",
              "Gender                          0.176667\n",
              "Age                             0.000000\n",
              "Income (USD)                   15.253333\n",
              "Income Stability                5.610000\n",
              "Profession                      0.000000\n",
              "Type of Employment             24.233333\n",
              "Location                        0.000000\n",
              "Loan Amount Request (USD)       0.000000\n",
              "Current Loan Expenses (USD)     0.573333\n",
              "Expense Type 1                  0.000000\n",
              "Expense Type 2                  0.000000\n",
              "Dependents                      8.310000\n",
              "Credit Score                    5.676667\n",
              "No. of Defaults                 0.000000\n",
              "Has Active Credit Card          5.220000\n",
              "Property ID                     0.000000\n",
              "Property Age                   16.166667\n",
              "Property Type                   0.000000\n",
              "Property Location               1.186667\n",
              "Co-Applicant                    0.000000\n",
              "Property Price                  0.000000\n",
              "Loan Sanction Amount (USD)      1.133333\n",
              "dtype: float64"
            ]
          },
          "metadata": {
            "tags": []
          },
          "execution_count": 8
        }
      ]
    },
    {
      "cell_type": "code",
      "metadata": {
        "id": "7PTIPJ_ttEOJ"
      },
      "source": [
        "cnames_numeric=list(train_df.select_dtypes(exclude=['object']).columns)"
      ],
      "execution_count": 9,
      "outputs": []
    },
    {
      "cell_type": "code",
      "metadata": {
        "colab": {
          "base_uri": "https://localhost:8080/"
        },
        "id": "rKdnhXB3uXv7",
        "outputId": "0a3171eb-24b6-4dc6-fcac-907386d3505d"
      },
      "source": [
        "cnames_numeric"
      ],
      "execution_count": 10,
      "outputs": [
        {
          "output_type": "execute_result",
          "data": {
            "text/plain": [
              "['Age',\n",
              " 'Income (USD)',\n",
              " 'Loan Amount Request (USD)',\n",
              " 'Current Loan Expenses (USD)',\n",
              " 'Dependents',\n",
              " 'Credit Score',\n",
              " 'No. of Defaults',\n",
              " 'Property ID',\n",
              " 'Property Age',\n",
              " 'Property Type',\n",
              " 'Co-Applicant',\n",
              " 'Property Price',\n",
              " 'Loan Sanction Amount (USD)']"
            ]
          },
          "metadata": {
            "tags": []
          },
          "execution_count": 10
        }
      ]
    },
    {
      "cell_type": "code",
      "metadata": {
        "id": "P9RVVddzuY8u"
      },
      "source": [
        "numerics = ['int16', 'int32', 'int64', 'float16', 'float32', 'float64']\n",
        "\n",
        "cnames_object=list(train_df.select_dtypes(exclude=numerics).columns)"
      ],
      "execution_count": 11,
      "outputs": []
    },
    {
      "cell_type": "code",
      "metadata": {
        "colab": {
          "base_uri": "https://localhost:8080/"
        },
        "id": "0_wbX4HLuwcS",
        "outputId": "5fc0bd44-7501-45fe-cf8e-ed39f8e09691"
      },
      "source": [
        "cnames_object"
      ],
      "execution_count": 12,
      "outputs": [
        {
          "output_type": "execute_result",
          "data": {
            "text/plain": [
              "['Customer ID',\n",
              " 'Name',\n",
              " 'Gender',\n",
              " 'Income Stability',\n",
              " 'Profession',\n",
              " 'Type of Employment',\n",
              " 'Location',\n",
              " 'Expense Type 1',\n",
              " 'Expense Type 2',\n",
              " 'Has Active Credit Card',\n",
              " 'Property Location']"
            ]
          },
          "metadata": {
            "tags": []
          },
          "execution_count": 12
        }
      ]
    },
    {
      "cell_type": "code",
      "metadata": {
        "colab": {
          "base_uri": "https://localhost:8080/",
          "height": 356
        },
        "id": "RSLrjrsiuxrw",
        "outputId": "99239537-fc47-479d-b4ec-ec1c180c2d33"
      },
      "source": [
        "train_df.head()"
      ],
      "execution_count": 13,
      "outputs": [
        {
          "output_type": "execute_result",
          "data": {
            "text/html": [
              "<div>\n",
              "<style scoped>\n",
              "    .dataframe tbody tr th:only-of-type {\n",
              "        vertical-align: middle;\n",
              "    }\n",
              "\n",
              "    .dataframe tbody tr th {\n",
              "        vertical-align: top;\n",
              "    }\n",
              "\n",
              "    .dataframe thead th {\n",
              "        text-align: right;\n",
              "    }\n",
              "</style>\n",
              "<table border=\"1\" class=\"dataframe\">\n",
              "  <thead>\n",
              "    <tr style=\"text-align: right;\">\n",
              "      <th></th>\n",
              "      <th>Customer ID</th>\n",
              "      <th>Name</th>\n",
              "      <th>Gender</th>\n",
              "      <th>Age</th>\n",
              "      <th>Income (USD)</th>\n",
              "      <th>Income Stability</th>\n",
              "      <th>Profession</th>\n",
              "      <th>Type of Employment</th>\n",
              "      <th>Location</th>\n",
              "      <th>Loan Amount Request (USD)</th>\n",
              "      <th>Current Loan Expenses (USD)</th>\n",
              "      <th>Expense Type 1</th>\n",
              "      <th>Expense Type 2</th>\n",
              "      <th>Dependents</th>\n",
              "      <th>Credit Score</th>\n",
              "      <th>No. of Defaults</th>\n",
              "      <th>Has Active Credit Card</th>\n",
              "      <th>Property ID</th>\n",
              "      <th>Property Age</th>\n",
              "      <th>Property Type</th>\n",
              "      <th>Property Location</th>\n",
              "      <th>Co-Applicant</th>\n",
              "      <th>Property Price</th>\n",
              "      <th>Loan Sanction Amount (USD)</th>\n",
              "    </tr>\n",
              "  </thead>\n",
              "  <tbody>\n",
              "    <tr>\n",
              "      <th>0</th>\n",
              "      <td>C-36995</td>\n",
              "      <td>Frederica Shealy</td>\n",
              "      <td>F</td>\n",
              "      <td>56</td>\n",
              "      <td>1933.05</td>\n",
              "      <td>Low</td>\n",
              "      <td>Working</td>\n",
              "      <td>Sales staff</td>\n",
              "      <td>Semi-Urban</td>\n",
              "      <td>72809.58</td>\n",
              "      <td>241.08</td>\n",
              "      <td>N</td>\n",
              "      <td>N</td>\n",
              "      <td>3.0</td>\n",
              "      <td>809.44</td>\n",
              "      <td>0</td>\n",
              "      <td>NaN</td>\n",
              "      <td>746</td>\n",
              "      <td>1933.05</td>\n",
              "      <td>4</td>\n",
              "      <td>Rural</td>\n",
              "      <td>1</td>\n",
              "      <td>119933.46</td>\n",
              "      <td>54607.18</td>\n",
              "    </tr>\n",
              "    <tr>\n",
              "      <th>1</th>\n",
              "      <td>C-33999</td>\n",
              "      <td>America Calderone</td>\n",
              "      <td>M</td>\n",
              "      <td>32</td>\n",
              "      <td>4952.91</td>\n",
              "      <td>Low</td>\n",
              "      <td>Working</td>\n",
              "      <td>NaN</td>\n",
              "      <td>Semi-Urban</td>\n",
              "      <td>46837.47</td>\n",
              "      <td>495.81</td>\n",
              "      <td>N</td>\n",
              "      <td>Y</td>\n",
              "      <td>1.0</td>\n",
              "      <td>780.40</td>\n",
              "      <td>0</td>\n",
              "      <td>Unpossessed</td>\n",
              "      <td>608</td>\n",
              "      <td>4952.91</td>\n",
              "      <td>2</td>\n",
              "      <td>Rural</td>\n",
              "      <td>1</td>\n",
              "      <td>54791.00</td>\n",
              "      <td>37469.98</td>\n",
              "    </tr>\n",
              "    <tr>\n",
              "      <th>2</th>\n",
              "      <td>C-3770</td>\n",
              "      <td>Rosetta Verne</td>\n",
              "      <td>F</td>\n",
              "      <td>65</td>\n",
              "      <td>988.19</td>\n",
              "      <td>High</td>\n",
              "      <td>Pensioner</td>\n",
              "      <td>NaN</td>\n",
              "      <td>Semi-Urban</td>\n",
              "      <td>45593.04</td>\n",
              "      <td>171.95</td>\n",
              "      <td>N</td>\n",
              "      <td>Y</td>\n",
              "      <td>1.0</td>\n",
              "      <td>833.15</td>\n",
              "      <td>0</td>\n",
              "      <td>Unpossessed</td>\n",
              "      <td>546</td>\n",
              "      <td>988.19</td>\n",
              "      <td>2</td>\n",
              "      <td>Urban</td>\n",
              "      <td>0</td>\n",
              "      <td>72440.58</td>\n",
              "      <td>36474.43</td>\n",
              "    </tr>\n",
              "    <tr>\n",
              "      <th>3</th>\n",
              "      <td>C-26480</td>\n",
              "      <td>Zoe Chitty</td>\n",
              "      <td>F</td>\n",
              "      <td>65</td>\n",
              "      <td>NaN</td>\n",
              "      <td>High</td>\n",
              "      <td>Pensioner</td>\n",
              "      <td>NaN</td>\n",
              "      <td>Rural</td>\n",
              "      <td>80057.92</td>\n",
              "      <td>298.54</td>\n",
              "      <td>N</td>\n",
              "      <td>Y</td>\n",
              "      <td>2.0</td>\n",
              "      <td>832.70</td>\n",
              "      <td>1</td>\n",
              "      <td>Unpossessed</td>\n",
              "      <td>890</td>\n",
              "      <td>NaN</td>\n",
              "      <td>2</td>\n",
              "      <td>Semi-Urban</td>\n",
              "      <td>1</td>\n",
              "      <td>121441.51</td>\n",
              "      <td>56040.54</td>\n",
              "    </tr>\n",
              "    <tr>\n",
              "      <th>4</th>\n",
              "      <td>C-23459</td>\n",
              "      <td>Afton Venema</td>\n",
              "      <td>F</td>\n",
              "      <td>31</td>\n",
              "      <td>2614.77</td>\n",
              "      <td>Low</td>\n",
              "      <td>Working</td>\n",
              "      <td>High skill tech staff</td>\n",
              "      <td>Semi-Urban</td>\n",
              "      <td>113858.89</td>\n",
              "      <td>491.41</td>\n",
              "      <td>N</td>\n",
              "      <td>Y</td>\n",
              "      <td>NaN</td>\n",
              "      <td>745.55</td>\n",
              "      <td>1</td>\n",
              "      <td>Active</td>\n",
              "      <td>715</td>\n",
              "      <td>2614.77</td>\n",
              "      <td>4</td>\n",
              "      <td>Semi-Urban</td>\n",
              "      <td>1</td>\n",
              "      <td>208567.91</td>\n",
              "      <td>74008.28</td>\n",
              "    </tr>\n",
              "  </tbody>\n",
              "</table>\n",
              "</div>"
            ],
            "text/plain": [
              "  Customer ID               Name  ... Property Price  Loan Sanction Amount (USD)\n",
              "0     C-36995   Frederica Shealy  ...      119933.46                    54607.18\n",
              "1     C-33999  America Calderone  ...       54791.00                    37469.98\n",
              "2      C-3770      Rosetta Verne  ...       72440.58                    36474.43\n",
              "3     C-26480         Zoe Chitty  ...      121441.51                    56040.54\n",
              "4     C-23459       Afton Venema  ...      208567.91                    74008.28\n",
              "\n",
              "[5 rows x 24 columns]"
            ]
          },
          "metadata": {
            "tags": []
          },
          "execution_count": 13
        }
      ]
    },
    {
      "cell_type": "code",
      "metadata": {
        "id": "hDxtMi7fu3RF"
      },
      "source": [
        "def fill_na(data,columns):\n",
        "  for i in columns:\n",
        "    if data[i].dtype == 'object':\n",
        "      data[i].fill_na(data[i].mode()[0],inplace=True)\n",
        "\n",
        "    elif data[i].dtype == 'int32' or data[i].dtype == 'float64':\n",
        "      data[i].fill_na(data[i].median,inplace=True)\n",
        "  return data\n",
        "\n",
        "\n",
        "\n",
        "def encode_data(data,columns):\n",
        "  for i in column:\n",
        "    if data[i].nunique()>4:\n",
        "      \n"
      ],
      "execution_count": null,
      "outputs": []
    }
  ]
}